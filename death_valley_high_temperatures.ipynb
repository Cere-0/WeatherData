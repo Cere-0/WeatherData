{
 "cells": [
  {
   "cell_type": "code",
   "execution_count": 5,
   "metadata": {},
   "outputs": [],
   "source": [
    "import csv\n",
    "from datetime import datetime\n",
    "import matplotlib.pyplot as plt\n",
    "\n",
    "filename = 'data/death_valley_2018_simple.csv'"
   ]
  },
  {
   "cell_type": "code",
   "execution_count": 8,
   "metadata": {},
   "outputs": [
    {
     "name": "stdout",
     "output_type": "stream",
     "text": [
      "Missing data for 2018-02-18 00:00:00\n"
     ]
    }
   ],
   "source": [
    "with open(filename) as f:\n",
    "    reader = csv.reader(f)\n",
    "    header_row = next(reader)\n",
    "    \n",
    "    #Get dates, and high, and low temperatures from this file.\n",
    "    dates, highs, lows = [], [], []\n",
    "    for row in reader:\n",
    "        current_date = datetime.strptime(row[2], '%Y-%m-%d')\n",
    "        try:\n",
    "            high = int(row[4])\n",
    "            low = int(row[5])\n",
    "        except ValueError:\n",
    "            print(f\"Missing data for {current_date}\")\n",
    "        else:\n",
    "            dates.append(current_date)\n",
    "            highs.append(high)\n",
    "            lows.append(low)"
   ]
  },
  {
   "cell_type": "code",
   "execution_count": 10,
   "metadata": {},
   "outputs": [
    {
     "ename": "NameError",
     "evalue": "name 'plt' is not defined",
     "output_type": "error",
     "traceback": [
      "\u001b[0;31m---------------------------------------------------------------------------\u001b[0m",
      "\u001b[0;31mNameError\u001b[0m                                 Traceback (most recent call last)",
      "\u001b[1;32m/home/alejandro/repos/python-crashcourse/project_2/chapter_16/death_valley_high_temperatures.ipynb Cell 3\u001b[0m in \u001b[0;36m<cell line: 2>\u001b[0;34m()\u001b[0m\n\u001b[1;32m      <a href='vscode-notebook-cell:/home/alejandro/repos/python-crashcourse/project_2/chapter_16/death_valley_high_temperatures.ipynb#W2sZmlsZQ%3D%3D?line=0'>1</a>\u001b[0m \u001b[39m#Plot the high temperatures\u001b[39;00m\n\u001b[0;32m----> <a href='vscode-notebook-cell:/home/alejandro/repos/python-crashcourse/project_2/chapter_16/death_valley_high_temperatures.ipynb#W2sZmlsZQ%3D%3D?line=1'>2</a>\u001b[0m plt\u001b[39m.\u001b[39mstyle\u001b[39m.\u001b[39muse(\u001b[39m'\u001b[39m\u001b[39mseaborn\u001b[39m\u001b[39m'\u001b[39m)\n\u001b[1;32m      <a href='vscode-notebook-cell:/home/alejandro/repos/python-crashcourse/project_2/chapter_16/death_valley_high_temperatures.ipynb#W2sZmlsZQ%3D%3D?line=2'>3</a>\u001b[0m fig, ax \u001b[39m=\u001b[39m plt\u001b[39m.\u001b[39msubplots()\n\u001b[1;32m      <a href='vscode-notebook-cell:/home/alejandro/repos/python-crashcourse/project_2/chapter_16/death_valley_high_temperatures.ipynb#W2sZmlsZQ%3D%3D?line=3'>4</a>\u001b[0m ax\u001b[39m.\u001b[39mplot(dates, highs, c\u001b[39m=\u001b[39m\u001b[39m\"\u001b[39m\u001b[39mred\u001b[39m\u001b[39m\"\u001b[39m, alpha\u001b[39m=\u001b[39m\u001b[39m0.5\u001b[39m)\n",
      "\u001b[0;31mNameError\u001b[0m: name 'plt' is not defined"
     ]
    }
   ],
   "source": [
    "#Plot the high temperatures\n",
    "plt.style.use('seaborn')\n",
    "fig, ax = plt.subplots()\n",
    "ax.plot(dates, highs, c=\"red\", alpha=0.5)\n",
    "ax.plot(dates, lows, c=\"blue\", alpha=0.5)\n",
    "plt.fill_between(dates, highs, lows, facecolor='blue', alpha=0.1)\n",
    "\n",
    "#Format plot.\n",
    "title = \"Daily high and low temperatures - 2018\\nDeath Valley, CA\"\n",
    "plt.title(title, fontsize=24)\n",
    "plt.xlabel('', fontsize=16)\n",
    "fig.autofmt_xdate()\n",
    "plt.ylabel(\"Temperature (F)\", fontsize=16)\n",
    "plt.tick_params(axis='both', which='major', labelsize=16)\n",
    "\n",
    "plt.show()"
   ]
  }
 ],
 "metadata": {
  "kernelspec": {
   "display_name": "Python 3.10.4 64-bit",
   "language": "python",
   "name": "python3"
  },
  "language_info": {
   "codemirror_mode": {
    "name": "ipython",
    "version": 3
   },
   "file_extension": ".py",
   "mimetype": "text/x-python",
   "name": "python",
   "nbconvert_exporter": "python",
   "pygments_lexer": "ipython3",
   "version": "3.10.4"
  },
  "orig_nbformat": 4,
  "vscode": {
   "interpreter": {
    "hash": "97cc609b13305c559618ec78a438abc56230b9381f827f22d070313b9a1f3777"
   }
  }
 },
 "nbformat": 4,
 "nbformat_minor": 2
}
